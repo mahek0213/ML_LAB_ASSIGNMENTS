{
  "nbformat": 4,
  "nbformat_minor": 0,
  "metadata": {
    "colab": {
      "provenance": []
    },
    "kernelspec": {
      "name": "python3",
      "display_name": "Python 3"
    },
    "language_info": {
      "name": "python"
    }
  },
  "cells": [
    {
      "cell_type": "code",
      "execution_count": 3,
      "metadata": {
        "id": "DJXS1Pj_zvsB"
      },
      "outputs": [],
      "source": [
        "import pandas as pd\n",
        "import seaborn as sns\n",
        "import matplotlib.pyplot as plt\n",
        "from mlxtend.preprocessing import TransactionEncoder"
      ]
    },
    {
      "cell_type": "code",
      "source": [
        "df = pd.read_csv('/content/electricity_bill_dataset.csv')\n",
        "df.head()"
      ],
      "metadata": {
        "colab": {
          "base_uri": "https://localhost:8080/",
          "height": 362
        },
        "id": "QhD7GaKuz8xe",
        "outputId": "5f703d71-bd01-4881-d459-bd2618ddd7a8"
      },
      "execution_count": 4,
      "outputs": [
        {
          "output_type": "execute_result",
          "data": {
            "text/plain": [
              "   Fan  Refrigerator  AirConditioner  Television  Monitor  MotorPump  Month  \\\n",
              "0   16          23.0             2.0         6.0      1.0          0     10   \n",
              "1   19          22.0             2.0         3.0      1.0          0      5   \n",
              "2    7          20.0             2.0         6.0      7.0          0      7   \n",
              "3    7          22.0             3.0        21.0      1.0          0      6   \n",
              "4   11          23.0             2.0        11.0      1.0          0      2   \n",
              "\n",
              "        City                                    Company  MonthlyHours  \\\n",
              "0  Hyderabad                    Tata Power Company Ltd.           384   \n",
              "1   Vadodara                                       NHPC           488   \n",
              "2     Shimla                            Jyoti Structure           416   \n",
              "3     Mumbai                            Power Grid Corp           475   \n",
              "4     Mumbai  Ratnagiri Gas and Power Pvt. Ltd. (RGPPL)           457   \n",
              "\n",
              "   TariffRate  ElectricityBill  \n",
              "0         8.4           3225.6  \n",
              "1         7.8           3806.4  \n",
              "2         7.7           3203.2  \n",
              "3         9.2           4370.0  \n",
              "4         9.2           4204.4  "
            ],
            "text/html": [
              "\n",
              "  <div id=\"df-c80e0930-cbb9-4000-84f1-4908d7d7e9be\" class=\"colab-df-container\">\n",
              "    <div>\n",
              "<style scoped>\n",
              "    .dataframe tbody tr th:only-of-type {\n",
              "        vertical-align: middle;\n",
              "    }\n",
              "\n",
              "    .dataframe tbody tr th {\n",
              "        vertical-align: top;\n",
              "    }\n",
              "\n",
              "    .dataframe thead th {\n",
              "        text-align: right;\n",
              "    }\n",
              "</style>\n",
              "<table border=\"1\" class=\"dataframe\">\n",
              "  <thead>\n",
              "    <tr style=\"text-align: right;\">\n",
              "      <th></th>\n",
              "      <th>Fan</th>\n",
              "      <th>Refrigerator</th>\n",
              "      <th>AirConditioner</th>\n",
              "      <th>Television</th>\n",
              "      <th>Monitor</th>\n",
              "      <th>MotorPump</th>\n",
              "      <th>Month</th>\n",
              "      <th>City</th>\n",
              "      <th>Company</th>\n",
              "      <th>MonthlyHours</th>\n",
              "      <th>TariffRate</th>\n",
              "      <th>ElectricityBill</th>\n",
              "    </tr>\n",
              "  </thead>\n",
              "  <tbody>\n",
              "    <tr>\n",
              "      <th>0</th>\n",
              "      <td>16</td>\n",
              "      <td>23.0</td>\n",
              "      <td>2.0</td>\n",
              "      <td>6.0</td>\n",
              "      <td>1.0</td>\n",
              "      <td>0</td>\n",
              "      <td>10</td>\n",
              "      <td>Hyderabad</td>\n",
              "      <td>Tata Power Company Ltd.</td>\n",
              "      <td>384</td>\n",
              "      <td>8.4</td>\n",
              "      <td>3225.6</td>\n",
              "    </tr>\n",
              "    <tr>\n",
              "      <th>1</th>\n",
              "      <td>19</td>\n",
              "      <td>22.0</td>\n",
              "      <td>2.0</td>\n",
              "      <td>3.0</td>\n",
              "      <td>1.0</td>\n",
              "      <td>0</td>\n",
              "      <td>5</td>\n",
              "      <td>Vadodara</td>\n",
              "      <td>NHPC</td>\n",
              "      <td>488</td>\n",
              "      <td>7.8</td>\n",
              "      <td>3806.4</td>\n",
              "    </tr>\n",
              "    <tr>\n",
              "      <th>2</th>\n",
              "      <td>7</td>\n",
              "      <td>20.0</td>\n",
              "      <td>2.0</td>\n",
              "      <td>6.0</td>\n",
              "      <td>7.0</td>\n",
              "      <td>0</td>\n",
              "      <td>7</td>\n",
              "      <td>Shimla</td>\n",
              "      <td>Jyoti Structure</td>\n",
              "      <td>416</td>\n",
              "      <td>7.7</td>\n",
              "      <td>3203.2</td>\n",
              "    </tr>\n",
              "    <tr>\n",
              "      <th>3</th>\n",
              "      <td>7</td>\n",
              "      <td>22.0</td>\n",
              "      <td>3.0</td>\n",
              "      <td>21.0</td>\n",
              "      <td>1.0</td>\n",
              "      <td>0</td>\n",
              "      <td>6</td>\n",
              "      <td>Mumbai</td>\n",
              "      <td>Power Grid Corp</td>\n",
              "      <td>475</td>\n",
              "      <td>9.2</td>\n",
              "      <td>4370.0</td>\n",
              "    </tr>\n",
              "    <tr>\n",
              "      <th>4</th>\n",
              "      <td>11</td>\n",
              "      <td>23.0</td>\n",
              "      <td>2.0</td>\n",
              "      <td>11.0</td>\n",
              "      <td>1.0</td>\n",
              "      <td>0</td>\n",
              "      <td>2</td>\n",
              "      <td>Mumbai</td>\n",
              "      <td>Ratnagiri Gas and Power Pvt. Ltd. (RGPPL)</td>\n",
              "      <td>457</td>\n",
              "      <td>9.2</td>\n",
              "      <td>4204.4</td>\n",
              "    </tr>\n",
              "  </tbody>\n",
              "</table>\n",
              "</div>\n",
              "    <div class=\"colab-df-buttons\">\n",
              "\n",
              "  <div class=\"colab-df-container\">\n",
              "    <button class=\"colab-df-convert\" onclick=\"convertToInteractive('df-c80e0930-cbb9-4000-84f1-4908d7d7e9be')\"\n",
              "            title=\"Convert this dataframe to an interactive table.\"\n",
              "            style=\"display:none;\">\n",
              "\n",
              "  <svg xmlns=\"http://www.w3.org/2000/svg\" height=\"24px\" viewBox=\"0 -960 960 960\">\n",
              "    <path d=\"M120-120v-720h720v720H120Zm60-500h600v-160H180v160Zm220 220h160v-160H400v160Zm0 220h160v-160H400v160ZM180-400h160v-160H180v160Zm440 0h160v-160H620v160ZM180-180h160v-160H180v160Zm440 0h160v-160H620v160Z\"/>\n",
              "  </svg>\n",
              "    </button>\n",
              "\n",
              "  <style>\n",
              "    .colab-df-container {\n",
              "      display:flex;\n",
              "      gap: 12px;\n",
              "    }\n",
              "\n",
              "    .colab-df-convert {\n",
              "      background-color: #E8F0FE;\n",
              "      border: none;\n",
              "      border-radius: 50%;\n",
              "      cursor: pointer;\n",
              "      display: none;\n",
              "      fill: #1967D2;\n",
              "      height: 32px;\n",
              "      padding: 0 0 0 0;\n",
              "      width: 32px;\n",
              "    }\n",
              "\n",
              "    .colab-df-convert:hover {\n",
              "      background-color: #E2EBFA;\n",
              "      box-shadow: 0px 1px 2px rgba(60, 64, 67, 0.3), 0px 1px 3px 1px rgba(60, 64, 67, 0.15);\n",
              "      fill: #174EA6;\n",
              "    }\n",
              "\n",
              "    .colab-df-buttons div {\n",
              "      margin-bottom: 4px;\n",
              "    }\n",
              "\n",
              "    [theme=dark] .colab-df-convert {\n",
              "      background-color: #3B4455;\n",
              "      fill: #D2E3FC;\n",
              "    }\n",
              "\n",
              "    [theme=dark] .colab-df-convert:hover {\n",
              "      background-color: #434B5C;\n",
              "      box-shadow: 0px 1px 3px 1px rgba(0, 0, 0, 0.15);\n",
              "      filter: drop-shadow(0px 1px 2px rgba(0, 0, 0, 0.3));\n",
              "      fill: #FFFFFF;\n",
              "    }\n",
              "  </style>\n",
              "\n",
              "    <script>\n",
              "      const buttonEl =\n",
              "        document.querySelector('#df-c80e0930-cbb9-4000-84f1-4908d7d7e9be button.colab-df-convert');\n",
              "      buttonEl.style.display =\n",
              "        google.colab.kernel.accessAllowed ? 'block' : 'none';\n",
              "\n",
              "      async function convertToInteractive(key) {\n",
              "        const element = document.querySelector('#df-c80e0930-cbb9-4000-84f1-4908d7d7e9be');\n",
              "        const dataTable =\n",
              "          await google.colab.kernel.invokeFunction('convertToInteractive',\n",
              "                                                    [key], {});\n",
              "        if (!dataTable) return;\n",
              "\n",
              "        const docLinkHtml = 'Like what you see? Visit the ' +\n",
              "          '<a target=\"_blank\" href=https://colab.research.google.com/notebooks/data_table.ipynb>data table notebook</a>'\n",
              "          + ' to learn more about interactive tables.';\n",
              "        element.innerHTML = '';\n",
              "        dataTable['output_type'] = 'display_data';\n",
              "        await google.colab.output.renderOutput(dataTable, element);\n",
              "        const docLink = document.createElement('div');\n",
              "        docLink.innerHTML = docLinkHtml;\n",
              "        element.appendChild(docLink);\n",
              "      }\n",
              "    </script>\n",
              "  </div>\n",
              "\n",
              "\n",
              "<div id=\"df-8185bbd3-a1f4-4122-afa7-3dc575085bf2\">\n",
              "  <button class=\"colab-df-quickchart\" onclick=\"quickchart('df-8185bbd3-a1f4-4122-afa7-3dc575085bf2')\"\n",
              "            title=\"Suggest charts\"\n",
              "            style=\"display:none;\">\n",
              "\n",
              "<svg xmlns=\"http://www.w3.org/2000/svg\" height=\"24px\"viewBox=\"0 0 24 24\"\n",
              "     width=\"24px\">\n",
              "    <g>\n",
              "        <path d=\"M19 3H5c-1.1 0-2 .9-2 2v14c0 1.1.9 2 2 2h14c1.1 0 2-.9 2-2V5c0-1.1-.9-2-2-2zM9 17H7v-7h2v7zm4 0h-2V7h2v10zm4 0h-2v-4h2v4z\"/>\n",
              "    </g>\n",
              "</svg>\n",
              "  </button>\n",
              "\n",
              "<style>\n",
              "  .colab-df-quickchart {\n",
              "      --bg-color: #E8F0FE;\n",
              "      --fill-color: #1967D2;\n",
              "      --hover-bg-color: #E2EBFA;\n",
              "      --hover-fill-color: #174EA6;\n",
              "      --disabled-fill-color: #AAA;\n",
              "      --disabled-bg-color: #DDD;\n",
              "  }\n",
              "\n",
              "  [theme=dark] .colab-df-quickchart {\n",
              "      --bg-color: #3B4455;\n",
              "      --fill-color: #D2E3FC;\n",
              "      --hover-bg-color: #434B5C;\n",
              "      --hover-fill-color: #FFFFFF;\n",
              "      --disabled-bg-color: #3B4455;\n",
              "      --disabled-fill-color: #666;\n",
              "  }\n",
              "\n",
              "  .colab-df-quickchart {\n",
              "    background-color: var(--bg-color);\n",
              "    border: none;\n",
              "    border-radius: 50%;\n",
              "    cursor: pointer;\n",
              "    display: none;\n",
              "    fill: var(--fill-color);\n",
              "    height: 32px;\n",
              "    padding: 0;\n",
              "    width: 32px;\n",
              "  }\n",
              "\n",
              "  .colab-df-quickchart:hover {\n",
              "    background-color: var(--hover-bg-color);\n",
              "    box-shadow: 0 1px 2px rgba(60, 64, 67, 0.3), 0 1px 3px 1px rgba(60, 64, 67, 0.15);\n",
              "    fill: var(--button-hover-fill-color);\n",
              "  }\n",
              "\n",
              "  .colab-df-quickchart-complete:disabled,\n",
              "  .colab-df-quickchart-complete:disabled:hover {\n",
              "    background-color: var(--disabled-bg-color);\n",
              "    fill: var(--disabled-fill-color);\n",
              "    box-shadow: none;\n",
              "  }\n",
              "\n",
              "  .colab-df-spinner {\n",
              "    border: 2px solid var(--fill-color);\n",
              "    border-color: transparent;\n",
              "    border-bottom-color: var(--fill-color);\n",
              "    animation:\n",
              "      spin 1s steps(1) infinite;\n",
              "  }\n",
              "\n",
              "  @keyframes spin {\n",
              "    0% {\n",
              "      border-color: transparent;\n",
              "      border-bottom-color: var(--fill-color);\n",
              "      border-left-color: var(--fill-color);\n",
              "    }\n",
              "    20% {\n",
              "      border-color: transparent;\n",
              "      border-left-color: var(--fill-color);\n",
              "      border-top-color: var(--fill-color);\n",
              "    }\n",
              "    30% {\n",
              "      border-color: transparent;\n",
              "      border-left-color: var(--fill-color);\n",
              "      border-top-color: var(--fill-color);\n",
              "      border-right-color: var(--fill-color);\n",
              "    }\n",
              "    40% {\n",
              "      border-color: transparent;\n",
              "      border-right-color: var(--fill-color);\n",
              "      border-top-color: var(--fill-color);\n",
              "    }\n",
              "    60% {\n",
              "      border-color: transparent;\n",
              "      border-right-color: var(--fill-color);\n",
              "    }\n",
              "    80% {\n",
              "      border-color: transparent;\n",
              "      border-right-color: var(--fill-color);\n",
              "      border-bottom-color: var(--fill-color);\n",
              "    }\n",
              "    90% {\n",
              "      border-color: transparent;\n",
              "      border-bottom-color: var(--fill-color);\n",
              "    }\n",
              "  }\n",
              "</style>\n",
              "\n",
              "  <script>\n",
              "    async function quickchart(key) {\n",
              "      const quickchartButtonEl =\n",
              "        document.querySelector('#' + key + ' button');\n",
              "      quickchartButtonEl.disabled = true;  // To prevent multiple clicks.\n",
              "      quickchartButtonEl.classList.add('colab-df-spinner');\n",
              "      try {\n",
              "        const charts = await google.colab.kernel.invokeFunction(\n",
              "            'suggestCharts', [key], {});\n",
              "      } catch (error) {\n",
              "        console.error('Error during call to suggestCharts:', error);\n",
              "      }\n",
              "      quickchartButtonEl.classList.remove('colab-df-spinner');\n",
              "      quickchartButtonEl.classList.add('colab-df-quickchart-complete');\n",
              "    }\n",
              "    (() => {\n",
              "      let quickchartButtonEl =\n",
              "        document.querySelector('#df-8185bbd3-a1f4-4122-afa7-3dc575085bf2 button');\n",
              "      quickchartButtonEl.style.display =\n",
              "        google.colab.kernel.accessAllowed ? 'block' : 'none';\n",
              "    })();\n",
              "  </script>\n",
              "</div>\n",
              "\n",
              "    </div>\n",
              "  </div>\n"
            ],
            "application/vnd.google.colaboratory.intrinsic+json": {
              "type": "dataframe",
              "variable_name": "df",
              "summary": "{\n  \"name\": \"df\",\n  \"rows\": 45345,\n  \"fields\": [\n    {\n      \"column\": \"Fan\",\n      \"properties\": {\n        \"dtype\": \"number\",\n        \"std\": 5,\n        \"min\": 5,\n        \"max\": 23,\n        \"num_unique_values\": 19,\n        \"samples\": [\n          16,\n          23,\n          21\n        ],\n        \"semantic_type\": \"\",\n        \"description\": \"\"\n      }\n    },\n    {\n      \"column\": \"Refrigerator\",\n      \"properties\": {\n        \"dtype\": \"number\",\n        \"std\": 1.6725745765882742,\n        \"min\": 17.0,\n        \"max\": 23.0,\n        \"num_unique_values\": 7,\n        \"samples\": [\n          23.0,\n          22.0,\n          17.0\n        ],\n        \"semantic_type\": \"\",\n        \"description\": \"\"\n      }\n    },\n    {\n      \"column\": \"AirConditioner\",\n      \"properties\": {\n        \"dtype\": \"number\",\n        \"std\": 1.11548196100989,\n        \"min\": 0.0,\n        \"max\": 3.0,\n        \"num_unique_values\": 4,\n        \"samples\": [\n          3.0,\n          1.0,\n          2.0\n        ],\n        \"semantic_type\": \"\",\n        \"description\": \"\"\n      }\n    },\n    {\n      \"column\": \"Television\",\n      \"properties\": {\n        \"dtype\": \"number\",\n        \"std\": 5.756006832736228,\n        \"min\": 3.0,\n        \"max\": 22.0,\n        \"num_unique_values\": 20,\n        \"samples\": [\n          6.0,\n          10.0,\n          9.0\n        ],\n        \"semantic_type\": \"\",\n        \"description\": \"\"\n      }\n    },\n    {\n      \"column\": \"Monitor\",\n      \"properties\": {\n        \"dtype\": \"number\",\n        \"std\": 3.894932974715957,\n        \"min\": 1.0,\n        \"max\": 12.0,\n        \"num_unique_values\": 3,\n        \"samples\": [\n          1.0,\n          7.0,\n          12.0\n        ],\n        \"semantic_type\": \"\",\n        \"description\": \"\"\n      }\n    },\n    {\n      \"column\": \"MotorPump\",\n      \"properties\": {\n        \"dtype\": \"number\",\n        \"std\": 0,\n        \"min\": 0,\n        \"max\": 0,\n        \"num_unique_values\": 1,\n        \"samples\": [\n          0\n        ],\n        \"semantic_type\": \"\",\n        \"description\": \"\"\n      }\n    },\n    {\n      \"column\": \"Month\",\n      \"properties\": {\n        \"dtype\": \"number\",\n        \"std\": 3,\n        \"min\": 1,\n        \"max\": 12,\n        \"num_unique_values\": 12,\n        \"samples\": [\n          4\n        ],\n        \"semantic_type\": \"\",\n        \"description\": \"\"\n      }\n    },\n    {\n      \"column\": \"City\",\n      \"properties\": {\n        \"dtype\": \"category\",\n        \"num_unique_values\": 16,\n        \"samples\": [\n          \"Hyderabad\"\n        ],\n        \"semantic_type\": \"\",\n        \"description\": \"\"\n      }\n    },\n    {\n      \"column\": \"Company\",\n      \"properties\": {\n        \"dtype\": \"category\",\n        \"num_unique_values\": 32,\n        \"samples\": [\n          \"Jaiprakash Power\"\n        ],\n        \"semantic_type\": \"\",\n        \"description\": \"\"\n      }\n    },\n    {\n      \"column\": \"MonthlyHours\",\n      \"properties\": {\n        \"dtype\": \"number\",\n        \"std\": 122,\n        \"min\": 95,\n        \"max\": 926,\n        \"num_unique_values\": 748,\n        \"samples\": [\n          214\n        ],\n        \"semantic_type\": \"\",\n        \"description\": \"\"\n      }\n    },\n    {\n      \"column\": \"TariffRate\",\n      \"properties\": {\n        \"dtype\": \"number\",\n        \"std\": 0.5769916737111251,\n        \"min\": 7.4,\n        \"max\": 9.3,\n        \"num_unique_values\": 16,\n        \"samples\": [\n          8.4\n        ],\n        \"semantic_type\": \"\",\n        \"description\": \"\"\n      }\n    },\n    {\n      \"column\": \"ElectricityBill\",\n      \"properties\": {\n        \"dtype\": \"number\",\n        \"std\": 1073.8864060076623,\n        \"min\": 807.5,\n        \"max\": 8286.300000000001,\n        \"num_unique_values\": 8122,\n        \"samples\": [\n          3072.8\n        ],\n        \"semantic_type\": \"\",\n        \"description\": \"\"\n      }\n    }\n  ]\n}"
            }
          },
          "metadata": {},
          "execution_count": 4
        }
      ]
    },
    {
      "cell_type": "code",
      "source": [
        "# Binning numeric columns into categories\n",
        "df['HoursLevel'] = pd.cut(df['MonthlyHours'],\n",
        "                          bins=[0, 100, 200, float('inf')],\n",
        "                          labels=['LowHours', 'MediumHours', 'HighHours'])\n",
        "\n",
        "df['BillLevel'] = pd.cut(df['ElectricityBill'],\n",
        "                         bins=[0, 1000, 2000, float('inf')],\n",
        "                         labels=['LowBill', 'MediumBill', 'HighBill'])"
      ],
      "metadata": {
        "id": "n8GT5qAHUe2W"
      },
      "execution_count": 5,
      "outputs": []
    },
    {
      "cell_type": "code",
      "source": [
        "# Show distribution of new categories\n",
        "sns.countplot(x='HoursLevel', data=df)\n",
        "plt.title(\"Distribution of Monthly Work Hours\")\n",
        "plt.xlabel(\"Hours Category\")\n",
        "plt.ylabel(\"Count\")\n",
        "plt.show()\n",
        "\n",
        "sns.countplot(x='BillLevel', data=df, palette='Set2')\n",
        "plt.title(\"Distribution of Electricity Bill\")\n",
        "plt.xlabel(\"Bill Category\")\n",
        "plt.ylabel(\"Count\")\n",
        "plt.show()"
      ],
      "metadata": {
        "colab": {
          "base_uri": "https://localhost:8080/",
          "height": 1000
        },
        "id": "MTFCIiPXVN0O",
        "outputId": "85ef2f1c-55d1-4aa4-8227-0c942a01c9d2"
      },
      "execution_count": 6,
      "outputs": [
        {
          "output_type": "display_data",
          "data": {
            "text/plain": [
              "<Figure size 640x480 with 1 Axes>"
            ],
            "image/png": "[encoded data removed]"
          },
          "metadata": {}
        },
        {
          "output_type": "stream",
          "name": "stderr",
          "text": [
            "<ipython-input-6-b0a98eb0acdc>:8: FutureWarning: \n",
            "\n",
            "Passing `palette` without assigning `hue` is deprecated and will be removed in v0.14.0. Assign the `x` variable to `hue` and set `legend=False` for the same effect.\n",
            "\n",
            "  sns.countplot(x='BillLevel', data=df, palette='Set2')\n"
          ]
        },
        {
          "output_type": "display_data",
          "data": {
            "text/plain": [
              "<Figure size 640x480 with 1 Axes>"
            ],
            "image/png": "[encoded data removed]"
          },
          "metadata": {}
        }
      ]
    },
    {
      "cell_type": "code",
      "source": [
        "# Create transactions\n",
        "transactions = df[['HoursLevel', 'BillLevel']].values.tolist()\n",
        "transactions = [[str(item) for item in row if pd.notnull(item)] for row in transactions]"
      ],
      "metadata": {
        "id": "b7Z4bu1KVRnk"
      },
      "execution_count": 7,
      "outputs": []
    },
    {
      "cell_type": "code",
      "source": [
        "# One-hot encode the transactions\n",
        "te = TransactionEncoder()\n",
        "te_array = te.fit(transactions).transform(transactions)\n",
        "df_encoded = pd.DataFrame(te_array, columns=te.columns_)"
      ],
      "metadata": {
        "id": "Ktvi4_v7VUfL"
      },
      "execution_count": 8,
      "outputs": []
    },
    {
      "cell_type": "code",
      "source": [
        "# Generate frequent itemsets\n",
        "from mlxtend.frequent_patterns import apriori, association_rules\n",
        "\n",
        "frequent_itemsets = apriori(df_encoded, min_support=0.2, use_colnames=True)\n",
        "print(frequent_itemsets)"
      ],
      "metadata": {
        "colab": {
          "base_uri": "https://localhost:8080/"
        },
        "id": "fazcUVTrVWE3",
        "outputId": "7d6be297-9aa3-482d-bb89-ba52564af728"
      },
      "execution_count": 9,
      "outputs": [
        {
          "output_type": "stream",
          "name": "stdout",
          "text": [
            "    support               itemsets\n",
            "0  0.989459             (HighBill)\n",
            "1  0.996868            (HighHours)\n",
            "2  0.989459  (HighHours, HighBill)\n"
          ]
        }
      ]
    },
    {
      "cell_type": "code",
      "source": [
        "# Visualize support of frequent itemsets\n",
        "frequent_itemsets.plot.bar(x='itemsets', y='support', legend=False)\n",
        "plt.title(\"Frequent Itemsets Support\")\n",
        "plt.ylabel(\"Support\")\n",
        "plt.xticks(rotation=45)\n",
        "plt.tight_layout()\n",
        "plt.show()"
      ],
      "metadata": {
        "colab": {
          "base_uri": "https://localhost:8080/",
          "height": 487
        },
        "id": "YoPsLmFkVXmU",
        "outputId": "e55c9f94-099c-4936-b8e1-ccf79b2e728c"
      },
      "execution_count": 10,
      "outputs": [
        {
          "output_type": "display_data",
          "data": {
            "text/plain": [
              "<Figure size 640x480 with 1 Axes>"
            ],
            "image/png": "[encoded data removed]"
          },
          "metadata": {}
        }
      ]
    },
    {
      "cell_type": "code",
      "source": [
        "# Generate association rules\n",
        "rules = association_rules(frequent_itemsets, metric=\"confidence\", min_threshold=0.6)\n",
        "rules = rules.sort_values(by='lift', ascending=False)\n",
        "print(rules[['antecedents', 'consequents', 'support', 'confidence', 'lift']])"
      ],
      "metadata": {
        "colab": {
          "base_uri": "https://localhost:8080/"
        },
        "id": "Ab0uoW-iVZPu",
        "outputId": "2f27fdcb-bf47-4938-d5c7-b07d204ea91c"
      },
      "execution_count": 11,
      "outputs": [
        {
          "output_type": "stream",
          "name": "stdout",
          "text": [
            "   antecedents  consequents   support  confidence      lift\n",
            "0  (HighHours)   (HighBill)  0.989459    0.992567  1.003141\n",
            "1   (HighBill)  (HighHours)  0.989459    1.000000  1.003141\n"
          ]
        }
      ]
    },
    {
      "cell_type": "code",
      "source": [
        "# Generate association rules with min confidence of 0.6\n",
        "rules = association_rules(frequent_itemsets, metric=\"confidence\", min_threshold=0.6)"
      ],
      "metadata": {
        "id": "4YZV44XsE3l8"
      },
      "execution_count": 12,
      "outputs": []
    },
    {
      "cell_type": "code",
      "source": [
        "# Sort rules by lift\n",
        "rules = rules.sort_values(by='lift', ascending=False)"
      ],
      "metadata": {
        "id": "3lDZiM6nE5ve"
      },
      "execution_count": 13,
      "outputs": []
    },
    {
      "cell_type": "code",
      "source": [
        "# Format itemsets for better display\n",
        "rules['antecedents'] = rules['antecedents'].apply(lambda x: ', '.join(list(x)))\n",
        "rules['consequents'] = rules['consequents'].apply(lambda x: ', '.join(list(x)))"
      ],
      "metadata": {
        "id": "prActjiXE8ND"
      },
      "execution_count": 14,
      "outputs": []
    },
    {
      "cell_type": "code",
      "source": [
        "\n",
        "# Display final rules with metrics\n",
        "print(\"\\nTop Association Rules with Support, Confidence, and Lift:\")\n",
        "print(rules[['antecedents', 'consequents', 'support', 'confidence', 'lift']].to_string(index=False))"
      ],
      "metadata": {
        "colab": {
          "base_uri": "https://localhost:8080/"
        },
        "id": "4yHWXNU8E-nv",
        "outputId": "a0bf11b3-c2ce-46d9-f244-d3e655a435dc"
      },
      "execution_count": 15,
      "outputs": [
        {
          "output_type": "stream",
          "name": "stdout",
          "text": [
            "\n",
            "Top Association Rules with Support, Confidence, and Lift:\n",
            "antecedents consequents  support  confidence     lift\n",
            "  HighHours    HighBill 0.989459    0.992567 1.003141\n",
            "   HighBill   HighHours 0.989459    1.000000 1.003141\n"
          ]
        }
      ]
    },
    {
      "cell_type": "code",
      "source": [
        "# Plot top 5 rules by lift\n",
        "top_rules = rules.head(5)\n",
        "plt.figure(figsize=(8, 5))\n",
        "sns.barplot(x='lift', y='antecedents', data=top_rules, palette='viridis')\n",
        "plt.xlabel('Lift')\n",
        "plt.ylabel('Rule (Antecedents)')\n",
        "plt.title('Top 5 Association Rules by Lift')\n",
        "plt.tight_layout()\n",
        "plt.show()"
      ],
      "metadata": {
        "colab": {
          "base_uri": "https://localhost:8080/",
          "height": 614
        },
        "id": "C3B0g7WWFCxZ",
        "outputId": "eeb5836d-8ada-438f-b905-1ffc97510541"
      },
      "execution_count": 16,
      "outputs": [
        {
          "output_type": "stream",
          "name": "stderr",
          "text": [
            "<ipython-input-16-baf6da9a366f>:4: FutureWarning: \n",
            "\n",
            "Passing `palette` without assigning `hue` is deprecated and will be removed in v0.14.0. Assign the `y` variable to `hue` and set `legend=False` for the same effect.\n",
            "\n",
            "  sns.barplot(x='lift', y='antecedents', data=top_rules, palette='viridis')\n"
          ]
        },
        {
          "output_type": "display_data",
          "data": {
            "text/plain": [
              "<Figure size 800x500 with 1 Axes>"
            ],
            "image/png": "[encoded data removed]"
          },
          "metadata": {}
        }
      ]
    }
  ]
}